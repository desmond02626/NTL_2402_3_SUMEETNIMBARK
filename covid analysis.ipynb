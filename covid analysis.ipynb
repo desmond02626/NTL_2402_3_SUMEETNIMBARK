{
 "cells": [
  {
   "cell_type": "code",
   "execution_count": 2,
   "id": "bc20f9b7-b14a-4bde-8671-6e0cfe03e5a5",
   "metadata": {},
   "outputs": [],
   "source": [
    "import pandas as pd\n",
    "import matplotlib.pyplot as plt\n",
    "import seaborn as sns"
   ]
  },
  {
   "cell_type": "code",
   "execution_count": 7,
   "id": "35a2ae81-f7b8-40ff-8f2a-6058a6c5bd09",
   "metadata": {},
   "outputs": [],
   "source": [
    "df=pd.read_csv(r\"E:\\data science question\\project\\next techleap internship\\covid 19 analysis\\owid-covid-data.csv\")"
   ]
  },
  {
   "cell_type": "code",
   "execution_count": 8,
   "id": "92d81456-50c5-4726-aec0-73f31e9d23e6",
   "metadata": {},
   "outputs": [
    {
     "data": {
      "text/html": [
       "<div>\n",
       "<style scoped>\n",
       "    .dataframe tbody tr th:only-of-type {\n",
       "        vertical-align: middle;\n",
       "    }\n",
       "\n",
       "    .dataframe tbody tr th {\n",
       "        vertical-align: top;\n",
       "    }\n",
       "\n",
       "    .dataframe thead th {\n",
       "        text-align: right;\n",
       "    }\n",
       "</style>\n",
       "<table border=\"1\" class=\"dataframe\">\n",
       "  <thead>\n",
       "    <tr style=\"text-align: right;\">\n",
       "      <th></th>\n",
       "      <th>continent</th>\n",
       "      <th>location</th>\n",
       "      <th>date</th>\n",
       "      <th>new_cases</th>\n",
       "      <th>new_deaths</th>\n",
       "      <th>new_vaccinations</th>\n",
       "      <th>population</th>\n",
       "    </tr>\n",
       "  </thead>\n",
       "  <tbody>\n",
       "    <tr>\n",
       "      <th>0</th>\n",
       "      <td>Asia</td>\n",
       "      <td>Afghanistan</td>\n",
       "      <td>05-01-2020</td>\n",
       "      <td>0.0</td>\n",
       "      <td>0.0</td>\n",
       "      <td>NaN</td>\n",
       "      <td>41128772</td>\n",
       "    </tr>\n",
       "    <tr>\n",
       "      <th>1</th>\n",
       "      <td>Asia</td>\n",
       "      <td>Afghanistan</td>\n",
       "      <td>06-01-2020</td>\n",
       "      <td>0.0</td>\n",
       "      <td>0.0</td>\n",
       "      <td>NaN</td>\n",
       "      <td>41128772</td>\n",
       "    </tr>\n",
       "    <tr>\n",
       "      <th>2</th>\n",
       "      <td>Asia</td>\n",
       "      <td>Afghanistan</td>\n",
       "      <td>07-01-2020</td>\n",
       "      <td>0.0</td>\n",
       "      <td>0.0</td>\n",
       "      <td>NaN</td>\n",
       "      <td>41128772</td>\n",
       "    </tr>\n",
       "    <tr>\n",
       "      <th>3</th>\n",
       "      <td>Asia</td>\n",
       "      <td>Afghanistan</td>\n",
       "      <td>08-01-2020</td>\n",
       "      <td>0.0</td>\n",
       "      <td>0.0</td>\n",
       "      <td>NaN</td>\n",
       "      <td>41128772</td>\n",
       "    </tr>\n",
       "    <tr>\n",
       "      <th>4</th>\n",
       "      <td>Asia</td>\n",
       "      <td>Afghanistan</td>\n",
       "      <td>09-01-2020</td>\n",
       "      <td>0.0</td>\n",
       "      <td>0.0</td>\n",
       "      <td>NaN</td>\n",
       "      <td>41128772</td>\n",
       "    </tr>\n",
       "    <tr>\n",
       "      <th>...</th>\n",
       "      <td>...</td>\n",
       "      <td>...</td>\n",
       "      <td>...</td>\n",
       "      <td>...</td>\n",
       "      <td>...</td>\n",
       "      <td>...</td>\n",
       "      <td>...</td>\n",
       "    </tr>\n",
       "    <tr>\n",
       "      <th>402905</th>\n",
       "      <td>Africa</td>\n",
       "      <td>Zimbabwe</td>\n",
       "      <td>31-07-2024</td>\n",
       "      <td>0.0</td>\n",
       "      <td>0.0</td>\n",
       "      <td>NaN</td>\n",
       "      <td>16320539</td>\n",
       "    </tr>\n",
       "    <tr>\n",
       "      <th>402906</th>\n",
       "      <td>Africa</td>\n",
       "      <td>Zimbabwe</td>\n",
       "      <td>01-08-2024</td>\n",
       "      <td>0.0</td>\n",
       "      <td>0.0</td>\n",
       "      <td>NaN</td>\n",
       "      <td>16320539</td>\n",
       "    </tr>\n",
       "    <tr>\n",
       "      <th>402907</th>\n",
       "      <td>Africa</td>\n",
       "      <td>Zimbabwe</td>\n",
       "      <td>02-08-2024</td>\n",
       "      <td>0.0</td>\n",
       "      <td>0.0</td>\n",
       "      <td>NaN</td>\n",
       "      <td>16320539</td>\n",
       "    </tr>\n",
       "    <tr>\n",
       "      <th>402908</th>\n",
       "      <td>Africa</td>\n",
       "      <td>Zimbabwe</td>\n",
       "      <td>03-08-2024</td>\n",
       "      <td>0.0</td>\n",
       "      <td>0.0</td>\n",
       "      <td>NaN</td>\n",
       "      <td>16320539</td>\n",
       "    </tr>\n",
       "    <tr>\n",
       "      <th>402909</th>\n",
       "      <td>Africa</td>\n",
       "      <td>Zimbabwe</td>\n",
       "      <td>04-08-2024</td>\n",
       "      <td>0.0</td>\n",
       "      <td>0.0</td>\n",
       "      <td>NaN</td>\n",
       "      <td>16320539</td>\n",
       "    </tr>\n",
       "  </tbody>\n",
       "</table>\n",
       "<p>402910 rows × 7 columns</p>\n",
       "</div>"
      ],
      "text/plain": [
       "       continent     location        date  new_cases  new_deaths  \\\n",
       "0           Asia  Afghanistan  05-01-2020        0.0         0.0   \n",
       "1           Asia  Afghanistan  06-01-2020        0.0         0.0   \n",
       "2           Asia  Afghanistan  07-01-2020        0.0         0.0   \n",
       "3           Asia  Afghanistan  08-01-2020        0.0         0.0   \n",
       "4           Asia  Afghanistan  09-01-2020        0.0         0.0   \n",
       "...          ...          ...         ...        ...         ...   \n",
       "402905    Africa     Zimbabwe  31-07-2024        0.0         0.0   \n",
       "402906    Africa     Zimbabwe  01-08-2024        0.0         0.0   \n",
       "402907    Africa     Zimbabwe  02-08-2024        0.0         0.0   \n",
       "402908    Africa     Zimbabwe  03-08-2024        0.0         0.0   \n",
       "402909    Africa     Zimbabwe  04-08-2024        0.0         0.0   \n",
       "\n",
       "        new_vaccinations  population  \n",
       "0                    NaN    41128772  \n",
       "1                    NaN    41128772  \n",
       "2                    NaN    41128772  \n",
       "3                    NaN    41128772  \n",
       "4                    NaN    41128772  \n",
       "...                  ...         ...  \n",
       "402905               NaN    16320539  \n",
       "402906               NaN    16320539  \n",
       "402907               NaN    16320539  \n",
       "402908               NaN    16320539  \n",
       "402909               NaN    16320539  \n",
       "\n",
       "[402910 rows x 7 columns]"
      ]
     },
     "execution_count": 8,
     "metadata": {},
     "output_type": "execute_result"
    }
   ],
   "source": [
    "df"
   ]
  },
  {
   "cell_type": "code",
   "execution_count": 9,
   "id": "ad9ab1f1-3997-4523-b6de-c9b8e5c2fa95",
   "metadata": {},
   "outputs": [
    {
     "data": {
      "text/plain": [
       "(402910, 7)"
      ]
     },
     "execution_count": 9,
     "metadata": {},
     "output_type": "execute_result"
    }
   ],
   "source": [
    "df.shape"
   ]
  },
  {
   "cell_type": "code",
   "execution_count": 10,
   "id": "368aa955-70f1-4298-b82c-6f86e0536b9a",
   "metadata": {},
   "outputs": [
    {
     "name": "stdout",
     "output_type": "stream",
     "text": [
      "<class 'pandas.core.frame.DataFrame'>\n",
      "RangeIndex: 402910 entries, 0 to 402909\n",
      "Data columns (total 7 columns):\n",
      " #   Column            Non-Null Count   Dtype  \n",
      "---  ------            --------------   -----  \n",
      " 0   continent         402910 non-null  object \n",
      " 1   location          402910 non-null  object \n",
      " 2   date              402910 non-null  object \n",
      " 3   new_cases         390071 non-null  float64\n",
      " 4   new_deaths        390520 non-null  float64\n",
      " 5   new_vaccinations  55747 non-null   float64\n",
      " 6   population        402910 non-null  int64  \n",
      "dtypes: float64(3), int64(1), object(3)\n",
      "memory usage: 21.5+ MB\n"
     ]
    }
   ],
   "source": [
    "df.info()"
   ]
  },
  {
   "cell_type": "code",
   "execution_count": 11,
   "id": "987f0232-ac62-49a0-839d-6d937c985db7",
   "metadata": {},
   "outputs": [
    {
     "data": {
      "text/plain": [
       "continent\n",
       "Africa           95419\n",
       "Europe           91031\n",
       "Asia             84199\n",
       "North America    68638\n",
       "Oceania          40183\n",
       "South America    23440\n",
       "Name: count, dtype: int64"
      ]
     },
     "execution_count": 11,
     "metadata": {},
     "output_type": "execute_result"
    }
   ],
   "source": [
    "df['continent'].value_counts()"
   ]
  },
  {
   "cell_type": "code",
   "execution_count": 13,
   "id": "ca5677ad-f9fd-4fd5-8374-cec7c07047bf",
   "metadata": {},
   "outputs": [
    {
     "data": {
      "text/plain": [
       "location\n",
       "East Timor         2688\n",
       "Faroe Islands      2068\n",
       "Lithuania          1684\n",
       "Malaysia           1684\n",
       "Estonia            1682\n",
       "                   ... \n",
       "Scotland           1305\n",
       "Wales              1198\n",
       "Macao               795\n",
       "Northern Cyprus     691\n",
       "Western Sahara        1\n",
       "Name: count, Length: 243, dtype: int64"
      ]
     },
     "execution_count": 13,
     "metadata": {},
     "output_type": "execute_result"
    }
   ],
   "source": [
    "df['location'].value_counts()"
   ]
  },
  {
   "cell_type": "code",
   "execution_count": 14,
   "id": "1021e8e2-cb86-4bf7-9e04-e4441ab600e0",
   "metadata": {},
   "outputs": [
    {
     "data": {
      "text/plain": [
       "continent            object\n",
       "location             object\n",
       "date                 object\n",
       "new_cases           float64\n",
       "new_deaths          float64\n",
       "new_vaccinations    float64\n",
       "population            int64\n",
       "dtype: object"
      ]
     },
     "execution_count": 14,
     "metadata": {},
     "output_type": "execute_result"
    }
   ],
   "source": [
    "df.dtypes"
   ]
  },
  {
   "cell_type": "code",
   "execution_count": 16,
   "id": "1c01ad43-00e2-483a-ba85-bade5cee031f",
   "metadata": {},
   "outputs": [],
   "source": [
    "df['date_column'] = pd.to_datetime(df['date'], format=\"%d-%m-%Y\")"
   ]
  },
  {
   "cell_type": "code",
   "execution_count": 17,
   "id": "21431787-b1f6-4392-ab17-4b7d6fdddcb5",
   "metadata": {},
   "outputs": [],
   "source": [
    "df_group=df.groupby('location')['new_cases'].sum()"
   ]
  },
  {
   "cell_type": "code",
   "execution_count": 18,
   "id": "58116e9c-dc99-44e1-a491-4f000ae4d7b6",
   "metadata": {},
   "outputs": [
    {
     "data": {
      "text/plain": [
       "location\n",
       "Afghanistan          235214.0\n",
       "Albania              335047.0\n",
       "Algeria              272139.0\n",
       "American Samoa         8359.0\n",
       "Andorra               48015.0\n",
       "                       ...   \n",
       "Wallis and Futuna      3760.0\n",
       "Western Sahara            0.0\n",
       "Yemen                 11945.0\n",
       "Zambia               349842.0\n",
       "Zimbabwe             266387.0\n",
       "Name: new_cases, Length: 243, dtype: float64"
      ]
     },
     "execution_count": 18,
     "metadata": {},
     "output_type": "execute_result"
    }
   ],
   "source": [
    "df_group"
   ]
  },
  {
   "cell_type": "code",
   "execution_count": 19,
   "id": "047aa812-1d8f-4266-8f70-4825182b837d",
   "metadata": {},
   "outputs": [
    {
     "data": {
      "text/plain": [
       "continent\n",
       "Africa            13146831.0\n",
       "Asia             301564180.0\n",
       "Europe           252916868.0\n",
       "North America    124492698.0\n",
       "Oceania           15003468.0\n",
       "South America     68811012.0\n",
       "Name: new_cases, dtype: float64"
      ]
     },
     "execution_count": 19,
     "metadata": {},
     "output_type": "execute_result"
    }
   ],
   "source": [
    "df_continent_group=df.groupby('continent')['new_cases'].sum()\n",
    "df_continent_group"
   ]
  },
  {
   "cell_type": "code",
   "execution_count": 20,
   "id": "2cbc1e2c-0a40-4b37-9836-dad4eff6718b",
   "metadata": {},
   "outputs": [
    {
     "data": {
      "image/png": "[encoded data removed]",
      "text/plain": [
       "<Figure size 640x480 with 2 Axes>"
      ]
     },
     "metadata": {},
     "output_type": "display_data"
    }
   ],
   "source": [
    "correlation=df[['new_cases','new_deaths','population']].corr()\n",
    "sns.heatmap(correlation,annot=True)\n",
    "plt.show()"
   ]
  },
  {
   "cell_type": "code",
   "execution_count": 21,
   "id": "732b43d2-c136-4ecc-aa8d-99c52b5841df",
   "metadata": {},
   "outputs": [
    {
     "data": {
      "image/png": "[encoded data removed]",
      "text/plain": [
       "<Figure size 640x480 with 1 Axes>"
      ]
     },
     "metadata": {},
     "output_type": "display_data"
    }
   ],
   "source": [
    "sns.barplot(x='continent',y='new_cases',data=df)\n",
    "plt.show()"
   ]
  },
  {
   "cell_type": "code",
   "execution_count": 24,
   "id": "a45e54e8-6db7-4e61-8fec-4ed6b76eafc2",
   "metadata": {},
   "outputs": [],
   "source": [
    "df=df.drop(columns=['date'])"
   ]
  },
  {
   "cell_type": "code",
   "execution_count": 25,
   "id": "328bca9b-fb66-48ff-9619-c1620cce00b9",
   "metadata": {},
   "outputs": [
    {
     "data": {
      "text/html": [
       "<div>\n",
       "<style scoped>\n",
       "    .dataframe tbody tr th:only-of-type {\n",
       "        vertical-align: middle;\n",
       "    }\n",
       "\n",
       "    .dataframe tbody tr th {\n",
       "        vertical-align: top;\n",
       "    }\n",
       "\n",
       "    .dataframe thead th {\n",
       "        text-align: right;\n",
       "    }\n",
       "</style>\n",
       "<table border=\"1\" class=\"dataframe\">\n",
       "  <thead>\n",
       "    <tr style=\"text-align: right;\">\n",
       "      <th></th>\n",
       "      <th>continent</th>\n",
       "      <th>location</th>\n",
       "      <th>new_cases</th>\n",
       "      <th>new_deaths</th>\n",
       "      <th>new_vaccinations</th>\n",
       "      <th>population</th>\n",
       "      <th>date_column</th>\n",
       "    </tr>\n",
       "  </thead>\n",
       "  <tbody>\n",
       "    <tr>\n",
       "      <th>0</th>\n",
       "      <td>Asia</td>\n",
       "      <td>Afghanistan</td>\n",
       "      <td>0.0</td>\n",
       "      <td>0.0</td>\n",
       "      <td>NaN</td>\n",
       "      <td>41128772</td>\n",
       "      <td>2020-01-05</td>\n",
       "    </tr>\n",
       "    <tr>\n",
       "      <th>1</th>\n",
       "      <td>Asia</td>\n",
       "      <td>Afghanistan</td>\n",
       "      <td>0.0</td>\n",
       "      <td>0.0</td>\n",
       "      <td>NaN</td>\n",
       "      <td>41128772</td>\n",
       "      <td>2020-01-06</td>\n",
       "    </tr>\n",
       "    <tr>\n",
       "      <th>2</th>\n",
       "      <td>Asia</td>\n",
       "      <td>Afghanistan</td>\n",
       "      <td>0.0</td>\n",
       "      <td>0.0</td>\n",
       "      <td>NaN</td>\n",
       "      <td>41128772</td>\n",
       "      <td>2020-01-07</td>\n",
       "    </tr>\n",
       "    <tr>\n",
       "      <th>3</th>\n",
       "      <td>Asia</td>\n",
       "      <td>Afghanistan</td>\n",
       "      <td>0.0</td>\n",
       "      <td>0.0</td>\n",
       "      <td>NaN</td>\n",
       "      <td>41128772</td>\n",
       "      <td>2020-01-08</td>\n",
       "    </tr>\n",
       "    <tr>\n",
       "      <th>4</th>\n",
       "      <td>Asia</td>\n",
       "      <td>Afghanistan</td>\n",
       "      <td>0.0</td>\n",
       "      <td>0.0</td>\n",
       "      <td>NaN</td>\n",
       "      <td>41128772</td>\n",
       "      <td>2020-01-09</td>\n",
       "    </tr>\n",
       "  </tbody>\n",
       "</table>\n",
       "</div>"
      ],
      "text/plain": [
       "  continent     location  new_cases  new_deaths  new_vaccinations  population  \\\n",
       "0      Asia  Afghanistan        0.0         0.0               NaN    41128772   \n",
       "1      Asia  Afghanistan        0.0         0.0               NaN    41128772   \n",
       "2      Asia  Afghanistan        0.0         0.0               NaN    41128772   \n",
       "3      Asia  Afghanistan        0.0         0.0               NaN    41128772   \n",
       "4      Asia  Afghanistan        0.0         0.0               NaN    41128772   \n",
       "\n",
       "  date_column  \n",
       "0  2020-01-05  \n",
       "1  2020-01-06  \n",
       "2  2020-01-07  \n",
       "3  2020-01-08  \n",
       "4  2020-01-09  "
      ]
     },
     "execution_count": 25,
     "metadata": {},
     "output_type": "execute_result"
    }
   ],
   "source": [
    "df.head()"
   ]
  },
  {
   "cell_type": "code",
   "execution_count": 26,
   "id": "61166218-1c35-491c-841c-7c44a31b5c4f",
   "metadata": {},
   "outputs": [],
   "source": [
    "df.to_csv('covid19')"
   ]
  },
  {
   "cell_type": "code",
   "execution_count": null,
   "id": "09981b0a-89b3-49cf-8cf1-65071e4b45b7",
   "metadata": {},
   "outputs": [],
   "source": []
  }
 ],
 "metadata": {
  "kernelspec": {
   "display_name": "Python 3 (ipykernel)",
   "language": "python",
   "name": "python3"
  },
  "language_info": {
   "codemirror_mode": {
    "name": "ipython",
    "version": 3
   },
   "file_extension": ".py",
   "mimetype": "text/x-python",
   "name": "python",
   "nbconvert_exporter": "python",
   "pygments_lexer": "ipython3",
   "version": "3.12.7"
  }
 },
 "nbformat": 4,
 "nbformat_minor": 5
}
